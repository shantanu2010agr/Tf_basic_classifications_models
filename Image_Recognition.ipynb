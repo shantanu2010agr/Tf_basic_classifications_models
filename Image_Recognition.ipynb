{
 "cells": [
  {
   "cell_type": "markdown",
   "metadata": {},
   "source": [
    "### Tenseflow Image-Recognition\n",
    "\n",
    "It is based on training a neural network model to classify images of clothing."
   ]
  },
  {
   "cell_type": "code",
   "execution_count": 1,
   "metadata": {},
   "outputs": [],
   "source": [
    "import tensorflow as tf\n",
    "from tensorflow import keras\n",
    "# High-level API provided by tf\n",
    "\n",
    "import numpy as np\n",
    "import matplotlib.pyplot as plt\n",
    "# import _tkinter\n",
    "# matplotlib.use('TKAgg',warn=False, force=True)\n"
   ]
  },
  {
   "cell_type": "code",
   "execution_count": 2,
   "metadata": {},
   "outputs": [],
   "source": [
    "data = keras.datasets.fashion_mnist\n",
    "\n",
    "(train_img, train_labels), (test_img, test_labels)=data.load_data()"
   ]
  },
  {
   "cell_type": "code",
   "execution_count": 3,
   "metadata": {},
   "outputs": [],
   "source": [
    "class_names= ['T-shirt/top', 'Trouser', 'Pullover', 'Dress',\n",
    " 'Coat', 'Sandal', 'skirt', 'Sneaker', 'Bag', 'Ankle boot']\t\t\n",
    "# list of labels being encoded to 0-9\n"
   ]
  },
  {
   "cell_type": "code",
   "execution_count": 5,
   "metadata": {},
   "outputs": [
    {
     "data": {
      "image/png": "[encoded data removed]",
      "text/plain": [
       "<Figure size 432x288 with 1 Axes>"
      ]
     },
     "metadata": {
      "needs_background": "light"
     },
     "output_type": "display_data"
    }
   ],
   "source": [
    "plt.imshow(train_img[7], cmap=plt.cm.binary)\n",
    "plt.show()"
   ]
  },
  {
   "cell_type": "code",
   "execution_count": 7,
   "metadata": {},
   "outputs": [
    {
     "name": "stdout",
     "output_type": "stream",
     "text": [
      "[[  0   0   0   0   0   1   1   0   0   0   0  63  28   0   0   0  33  85\n",
      "    0   0   0   0   0   0   0   0   0   0]\n",
      " [  0   0   0   0   0   2   0   0  28 126 241 255 255 255 255 255 255 252\n",
      "  248 111   0   0   0   2   0   0   0   0]\n",
      " [  0   0   0   0   2   0   0 206 244 251 241 230 238 221 205 230 240 230\n",
      "  239 251 233 165   0   0   2   0   0   0]\n",
      " [  0   0   0   1   0   0 199 251 228 234 233 236 235 245 247 237 234 239\n",
      "  230 230 235 255 176   0   0   1   0   0]\n",
      " [  0   0   0   0   0  81 254 226 228 239 237 236 234 232 233 235 235 236\n",
      "  239 237 233 225 246  73   0   0   0   0]\n",
      " [  0   0   3   0   0 255 235 239 223 234 238 236 237 236 235 235 235 235\n",
      "  236 235 234 230 231 255  24   0   4   0]\n",
      " [  0   0   0   0 177 239 223 254 223 232 234 234 236 236 235 235 235 235\n",
      "  235 234 231 233 222 246  88   0   1   0]\n",
      " [  0   0   0   0 234 239 229 255 220 232 233 232 234 235 235 235 235 235\n",
      "  234 233 232 230 228 254 140   0   0   0]\n",
      " [  0   0   0   0 225 240 226 255 221 227 232 228 231 230 228 229 231 230\n",
      "  228 228 232 223 229 244 231   0   0   0]\n",
      " [  0   0   0  47 245 231 234 249 229 221 229 225 229 227 226 227 228 227\n",
      "  228 229 228 224 246 240 227   0   0   0]\n",
      " [  0   0   0  51 248 230 245 246 230 226 230 227 230 229 228 229 230 228\n",
      "  228 231 225 227 242 237 255   0   0   0]\n",
      " [  0   0   0 101 253 229 247 241 221 233 228 227 229 228 227 228 230 227\n",
      "  230 234 225 229 251 229 243  55   0   0]\n",
      " [  0   0   0 102 255 227 242 241 221 234 223 230 228 231 229 231 231 227\n",
      "  229 241 219 236 254 225 250 167   0   0]\n",
      " [  0   0   0  90 255 229 236 231 222 236 223 231 229 231 229 231 231 228\n",
      "  224 245 218 243 239 227 244 175   0   0]\n",
      " [  0   0   0 212 250 225 236 249 229 237 223 231 229 231 229 231 231 230\n",
      "  221 243 225 248 230 236 234 255   1   0]\n",
      " [  0   0   0 245 243 232 243 218 228 238 222 231 229 231 229 231 231 230\n",
      "  222 237 237 252 229 239 240 223   0   0]\n",
      " [  0   0  27 255 235 242 237 216 230 236 224 229 227 233 233 233 230 228\n",
      "  224 230 245 247 221 243 239 252   0   0]\n",
      " [  0   0  88 255 232 248 236 208 234 231 223 227 226 233 232 232 230 228\n",
      "  224 224 235 233 234 247 235 255   0   0]\n",
      " [  0   0  83 255 225 250 237 224 236 229 225 225 227 235 229 231 230 230\n",
      "  227 221 227 221 239 250 231 255   0   0]\n",
      " [  0   0  20 255 224 248 234 226 232 222 225 224 231 238 226 230 228 230\n",
      "  230 221 229 225 244 246 230 255   0   0]\n",
      " [  0   0  95 255 218 242 255 232 226 224 229 228 228 232 228 229 231 233\n",
      "  232 226 221 224 247 244 228 255   0   0]\n",
      " [  0   0 167 255 213 235 255  81 245 251 238 236 230 229 230 229 230 231\n",
      "  238 240 255 192 255 239 228 255  23   0]\n",
      " [  0   0 173 242 224 233 255   0 136 226 239 255 229 236 236 234 233 228\n",
      "  251 248 200  81 255 237 225 255 101   0]\n",
      " [  0   0 172 255 226 233 255   0   0   0   0   0   8  21  22  21  20  14\n",
      "    0   0   0   0 255 238 229 246 178   0]\n",
      " [  0   0  16 255 236 238 252   0   0   0   0   0   0   0   0   0   0   0\n",
      "    0   0   0   0 222 244 222 254 119   0]\n",
      " [  0   0   0  30 228 242 163   0   0   0   0   2   4   6   5   5   4   4\n",
      "    2   0   1   0 151 251 235 180   0   0]\n",
      " [  0   0   0   0 234 255 191   0  11   0   0   0   0   0   0   0   0   0\n",
      "    0   0   4   0 103 246 247  72   0   0]\n",
      " [  0   0   0   1  95  77  52   0   4   0   0   0   0   0   0   0   0   0\n",
      "    0   0   3   0  82 237 231  70   0   0]]\n"
     ]
    }
   ],
   "source": [
    "print(train_img[7])"
   ]
  },
  {
   "cell_type": "markdown",
   "metadata": {},
   "source": [
    "Scaling values so that values remains in the range of 0 to 255 to be feeded into the model."
   ]
  },
  {
   "cell_type": "code",
   "execution_count": 9,
   "metadata": {},
   "outputs": [
    {
     "name": "stdout",
     "output_type": "stream",
     "text": [
      "[[0.00000000e+00 0.00000000e+00 0.00000000e+00 0.00000000e+00\n",
      "  0.00000000e+00 1.53787005e-05 1.53787005e-05 0.00000000e+00\n",
      "  0.00000000e+00 0.00000000e+00 0.00000000e+00 9.68858131e-04\n",
      "  4.30603614e-04 0.00000000e+00 0.00000000e+00 0.00000000e+00\n",
      "  5.07497116e-04 1.30718954e-03 0.00000000e+00 0.00000000e+00\n",
      "  0.00000000e+00 0.00000000e+00 0.00000000e+00 0.00000000e+00\n",
      "  0.00000000e+00 0.00000000e+00 0.00000000e+00 0.00000000e+00]\n",
      " [0.00000000e+00 0.00000000e+00 0.00000000e+00 0.00000000e+00\n",
      "  0.00000000e+00 3.07574010e-05 0.00000000e+00 0.00000000e+00\n",
      "  4.30603614e-04 1.93771626e-03 3.70626682e-03 3.92156863e-03\n",
      "  3.92156863e-03 3.92156863e-03 3.92156863e-03 3.92156863e-03\n",
      "  3.92156863e-03 3.87543253e-03 3.81391772e-03 1.70703576e-03\n",
      "  0.00000000e+00 0.00000000e+00 0.00000000e+00 3.07574010e-05\n",
      "  0.00000000e+00 0.00000000e+00 0.00000000e+00 0.00000000e+00]\n",
      " [0.00000000e+00 0.00000000e+00 0.00000000e+00 0.00000000e+00\n",
      "  3.07574010e-05 0.00000000e+00 0.00000000e+00 3.16801230e-03\n",
      "  3.75240292e-03 3.86005383e-03 3.70626682e-03 3.53710111e-03\n",
      "  3.66013072e-03 3.39869281e-03 3.15263360e-03 3.53710111e-03\n",
      "  3.69088812e-03 3.53710111e-03 3.67550942e-03 3.86005383e-03\n",
      "  3.58323722e-03 2.53748558e-03 0.00000000e+00 0.00000000e+00\n",
      "  3.07574010e-05 0.00000000e+00 0.00000000e+00 0.00000000e+00]\n",
      " [0.00000000e+00 0.00000000e+00 0.00000000e+00 1.53787005e-05\n",
      "  0.00000000e+00 0.00000000e+00 3.06036140e-03 3.86005383e-03\n",
      "  3.50634371e-03 3.59861592e-03 3.58323722e-03 3.62937332e-03\n",
      "  3.61399462e-03 3.76778162e-03 3.79853902e-03 3.64475202e-03\n",
      "  3.59861592e-03 3.67550942e-03 3.53710111e-03 3.53710111e-03\n",
      "  3.61399462e-03 3.92156863e-03 2.70665129e-03 0.00000000e+00\n",
      "  0.00000000e+00 1.53787005e-05 0.00000000e+00 0.00000000e+00]\n",
      " [0.00000000e+00 0.00000000e+00 0.00000000e+00 0.00000000e+00\n",
      "  0.00000000e+00 1.24567474e-03 3.90618993e-03 3.47558631e-03\n",
      "  3.50634371e-03 3.67550942e-03 3.64475202e-03 3.62937332e-03\n",
      "  3.59861592e-03 3.56785852e-03 3.58323722e-03 3.61399462e-03\n",
      "  3.61399462e-03 3.62937332e-03 3.67550942e-03 3.64475202e-03\n",
      "  3.58323722e-03 3.46020761e-03 3.78316032e-03 1.12264514e-03\n",
      "  0.00000000e+00 0.00000000e+00 0.00000000e+00 0.00000000e+00]\n",
      " [0.00000000e+00 0.00000000e+00 4.61361015e-05 0.00000000e+00\n",
      "  0.00000000e+00 3.92156863e-03 3.61399462e-03 3.67550942e-03\n",
      "  3.42945021e-03 3.59861592e-03 3.66013072e-03 3.62937332e-03\n",
      "  3.64475202e-03 3.62937332e-03 3.61399462e-03 3.61399462e-03\n",
      "  3.61399462e-03 3.61399462e-03 3.62937332e-03 3.61399462e-03\n",
      "  3.59861592e-03 3.53710111e-03 3.55247982e-03 3.92156863e-03\n",
      "  3.69088812e-04 0.00000000e+00 6.15148020e-05 0.00000000e+00]\n",
      " [0.00000000e+00 0.00000000e+00 0.00000000e+00 0.00000000e+00\n",
      "  2.72202999e-03 3.67550942e-03 3.42945021e-03 3.90618993e-03\n",
      "  3.42945021e-03 3.56785852e-03 3.59861592e-03 3.59861592e-03\n",
      "  3.62937332e-03 3.62937332e-03 3.61399462e-03 3.61399462e-03\n",
      "  3.61399462e-03 3.61399462e-03 3.61399462e-03 3.59861592e-03\n",
      "  3.55247982e-03 3.58323722e-03 3.41407151e-03 3.78316032e-03\n",
      "  1.35332564e-03 0.00000000e+00 1.53787005e-05 0.00000000e+00]\n",
      " [0.00000000e+00 0.00000000e+00 0.00000000e+00 0.00000000e+00\n",
      "  3.59861592e-03 3.67550942e-03 3.52172241e-03 3.92156863e-03\n",
      "  3.38331411e-03 3.56785852e-03 3.58323722e-03 3.56785852e-03\n",
      "  3.59861592e-03 3.61399462e-03 3.61399462e-03 3.61399462e-03\n",
      "  3.61399462e-03 3.61399462e-03 3.59861592e-03 3.58323722e-03\n",
      "  3.56785852e-03 3.53710111e-03 3.50634371e-03 3.90618993e-03\n",
      "  2.15301807e-03 0.00000000e+00 0.00000000e+00 0.00000000e+00]\n",
      " [0.00000000e+00 0.00000000e+00 0.00000000e+00 0.00000000e+00\n",
      "  3.46020761e-03 3.69088812e-03 3.47558631e-03 3.92156863e-03\n",
      "  3.39869281e-03 3.49096501e-03 3.56785852e-03 3.50634371e-03\n",
      "  3.55247982e-03 3.53710111e-03 3.50634371e-03 3.52172241e-03\n",
      "  3.55247982e-03 3.53710111e-03 3.50634371e-03 3.50634371e-03\n",
      "  3.56785852e-03 3.42945021e-03 3.52172241e-03 3.75240292e-03\n",
      "  3.55247982e-03 0.00000000e+00 0.00000000e+00 0.00000000e+00]\n",
      " [0.00000000e+00 0.00000000e+00 0.00000000e+00 7.22798923e-04\n",
      "  3.76778162e-03 3.55247982e-03 3.59861592e-03 3.82929642e-03\n",
      "  3.52172241e-03 3.39869281e-03 3.52172241e-03 3.46020761e-03\n",
      "  3.52172241e-03 3.49096501e-03 3.47558631e-03 3.49096501e-03\n",
      "  3.50634371e-03 3.49096501e-03 3.50634371e-03 3.52172241e-03\n",
      "  3.50634371e-03 3.44482891e-03 3.78316032e-03 3.69088812e-03\n",
      "  3.49096501e-03 0.00000000e+00 0.00000000e+00 0.00000000e+00]\n",
      " [0.00000000e+00 0.00000000e+00 0.00000000e+00 7.84313725e-04\n",
      "  3.81391772e-03 3.53710111e-03 3.76778162e-03 3.78316032e-03\n",
      "  3.53710111e-03 3.47558631e-03 3.53710111e-03 3.49096501e-03\n",
      "  3.53710111e-03 3.52172241e-03 3.50634371e-03 3.52172241e-03\n",
      "  3.53710111e-03 3.50634371e-03 3.50634371e-03 3.55247982e-03\n",
      "  3.46020761e-03 3.49096501e-03 3.72164552e-03 3.64475202e-03\n",
      "  3.92156863e-03 0.00000000e+00 0.00000000e+00 0.00000000e+00]\n",
      " [0.00000000e+00 0.00000000e+00 0.00000000e+00 1.55324875e-03\n",
      "  3.89081123e-03 3.52172241e-03 3.79853902e-03 3.70626682e-03\n",
      "  3.39869281e-03 3.58323722e-03 3.50634371e-03 3.49096501e-03\n",
      "  3.52172241e-03 3.50634371e-03 3.49096501e-03 3.50634371e-03\n",
      "  3.53710111e-03 3.49096501e-03 3.53710111e-03 3.59861592e-03\n",
      "  3.46020761e-03 3.52172241e-03 3.86005383e-03 3.52172241e-03\n",
      "  3.73702422e-03 8.45828527e-04 0.00000000e+00 0.00000000e+00]\n",
      " [0.00000000e+00 0.00000000e+00 0.00000000e+00 1.56862745e-03\n",
      "  3.92156863e-03 3.49096501e-03 3.72164552e-03 3.70626682e-03\n",
      "  3.39869281e-03 3.59861592e-03 3.42945021e-03 3.53710111e-03\n",
      "  3.50634371e-03 3.55247982e-03 3.52172241e-03 3.55247982e-03\n",
      "  3.55247982e-03 3.49096501e-03 3.52172241e-03 3.70626682e-03\n",
      "  3.36793541e-03 3.62937332e-03 3.90618993e-03 3.46020761e-03\n",
      "  3.84467512e-03 2.56824298e-03 0.00000000e+00 0.00000000e+00]\n",
      " [0.00000000e+00 0.00000000e+00 0.00000000e+00 1.38408304e-03\n",
      "  3.92156863e-03 3.52172241e-03 3.62937332e-03 3.55247982e-03\n",
      "  3.41407151e-03 3.62937332e-03 3.42945021e-03 3.55247982e-03\n",
      "  3.52172241e-03 3.55247982e-03 3.52172241e-03 3.55247982e-03\n",
      "  3.55247982e-03 3.50634371e-03 3.44482891e-03 3.76778162e-03\n",
      "  3.35255671e-03 3.73702422e-03 3.67550942e-03 3.49096501e-03\n",
      "  3.75240292e-03 2.69127259e-03 0.00000000e+00 0.00000000e+00]\n",
      " [0.00000000e+00 0.00000000e+00 0.00000000e+00 3.26028451e-03\n",
      "  3.84467512e-03 3.46020761e-03 3.62937332e-03 3.82929642e-03\n",
      "  3.52172241e-03 3.64475202e-03 3.42945021e-03 3.55247982e-03\n",
      "  3.52172241e-03 3.55247982e-03 3.52172241e-03 3.55247982e-03\n",
      "  3.55247982e-03 3.53710111e-03 3.39869281e-03 3.73702422e-03\n",
      "  3.46020761e-03 3.81391772e-03 3.53710111e-03 3.62937332e-03\n",
      "  3.59861592e-03 3.92156863e-03 1.53787005e-05 0.00000000e+00]\n",
      " [0.00000000e+00 0.00000000e+00 0.00000000e+00 3.76778162e-03\n",
      "  3.73702422e-03 3.56785852e-03 3.73702422e-03 3.35255671e-03\n",
      "  3.50634371e-03 3.66013072e-03 3.41407151e-03 3.55247982e-03\n",
      "  3.52172241e-03 3.55247982e-03 3.52172241e-03 3.55247982e-03\n",
      "  3.55247982e-03 3.53710111e-03 3.41407151e-03 3.64475202e-03\n",
      "  3.64475202e-03 3.87543253e-03 3.52172241e-03 3.67550942e-03\n",
      "  3.69088812e-03 3.42945021e-03 0.00000000e+00 0.00000000e+00]\n",
      " [0.00000000e+00 0.00000000e+00 4.15224913e-04 3.92156863e-03\n",
      "  3.61399462e-03 3.72164552e-03 3.64475202e-03 3.32179931e-03\n",
      "  3.53710111e-03 3.62937332e-03 3.44482891e-03 3.52172241e-03\n",
      "  3.49096501e-03 3.58323722e-03 3.58323722e-03 3.58323722e-03\n",
      "  3.53710111e-03 3.50634371e-03 3.44482891e-03 3.53710111e-03\n",
      "  3.76778162e-03 3.79853902e-03 3.39869281e-03 3.73702422e-03\n",
      "  3.67550942e-03 3.87543253e-03 0.00000000e+00 0.00000000e+00]\n",
      " [0.00000000e+00 0.00000000e+00 1.35332564e-03 3.92156863e-03\n",
      "  3.56785852e-03 3.81391772e-03 3.62937332e-03 3.19876970e-03\n",
      "  3.59861592e-03 3.55247982e-03 3.42945021e-03 3.49096501e-03\n",
      "  3.47558631e-03 3.58323722e-03 3.56785852e-03 3.56785852e-03\n",
      "  3.53710111e-03 3.50634371e-03 3.44482891e-03 3.44482891e-03\n",
      "  3.61399462e-03 3.58323722e-03 3.59861592e-03 3.79853902e-03\n",
      "  3.61399462e-03 3.92156863e-03 0.00000000e+00 0.00000000e+00]\n",
      " [0.00000000e+00 0.00000000e+00 1.27643214e-03 3.92156863e-03\n",
      "  3.46020761e-03 3.84467512e-03 3.64475202e-03 3.44482891e-03\n",
      "  3.62937332e-03 3.52172241e-03 3.46020761e-03 3.46020761e-03\n",
      "  3.49096501e-03 3.61399462e-03 3.52172241e-03 3.55247982e-03\n",
      "  3.53710111e-03 3.53710111e-03 3.49096501e-03 3.39869281e-03\n",
      "  3.49096501e-03 3.39869281e-03 3.67550942e-03 3.84467512e-03\n",
      "  3.55247982e-03 3.92156863e-03 0.00000000e+00 0.00000000e+00]\n",
      " [0.00000000e+00 0.00000000e+00 3.07574010e-04 3.92156863e-03\n",
      "  3.44482891e-03 3.81391772e-03 3.59861592e-03 3.47558631e-03\n",
      "  3.56785852e-03 3.41407151e-03 3.46020761e-03 3.44482891e-03\n",
      "  3.55247982e-03 3.66013072e-03 3.47558631e-03 3.53710111e-03\n",
      "  3.50634371e-03 3.53710111e-03 3.53710111e-03 3.39869281e-03\n",
      "  3.52172241e-03 3.46020761e-03 3.75240292e-03 3.78316032e-03\n",
      "  3.53710111e-03 3.92156863e-03 0.00000000e+00 0.00000000e+00]\n",
      " [0.00000000e+00 0.00000000e+00 1.46097655e-03 3.92156863e-03\n",
      "  3.35255671e-03 3.72164552e-03 3.92156863e-03 3.56785852e-03\n",
      "  3.47558631e-03 3.44482891e-03 3.52172241e-03 3.50634371e-03\n",
      "  3.50634371e-03 3.56785852e-03 3.50634371e-03 3.52172241e-03\n",
      "  3.55247982e-03 3.58323722e-03 3.56785852e-03 3.47558631e-03\n",
      "  3.39869281e-03 3.44482891e-03 3.79853902e-03 3.75240292e-03\n",
      "  3.50634371e-03 3.92156863e-03 0.00000000e+00 0.00000000e+00]\n",
      " [0.00000000e+00 0.00000000e+00 2.56824298e-03 3.92156863e-03\n",
      "  3.27566321e-03 3.61399462e-03 3.92156863e-03 1.24567474e-03\n",
      "  3.76778162e-03 3.86005383e-03 3.66013072e-03 3.62937332e-03\n",
      "  3.53710111e-03 3.52172241e-03 3.53710111e-03 3.52172241e-03\n",
      "  3.53710111e-03 3.55247982e-03 3.66013072e-03 3.69088812e-03\n",
      "  3.92156863e-03 2.95271050e-03 3.92156863e-03 3.67550942e-03\n",
      "  3.50634371e-03 3.92156863e-03 3.53710111e-04 0.00000000e+00]\n",
      " [0.00000000e+00 0.00000000e+00 2.66051519e-03 3.72164552e-03\n",
      "  3.44482891e-03 3.58323722e-03 3.92156863e-03 0.00000000e+00\n",
      "  2.09150327e-03 3.47558631e-03 3.67550942e-03 3.92156863e-03\n",
      "  3.52172241e-03 3.62937332e-03 3.62937332e-03 3.59861592e-03\n",
      "  3.58323722e-03 3.50634371e-03 3.86005383e-03 3.81391772e-03\n",
      "  3.07574010e-03 1.24567474e-03 3.92156863e-03 3.64475202e-03\n",
      "  3.46020761e-03 3.92156863e-03 1.55324875e-03 0.00000000e+00]\n",
      " [0.00000000e+00 0.00000000e+00 2.64513649e-03 3.92156863e-03\n",
      "  3.47558631e-03 3.58323722e-03 3.92156863e-03 0.00000000e+00\n",
      "  0.00000000e+00 0.00000000e+00 0.00000000e+00 0.00000000e+00\n",
      "  1.23029604e-04 3.22952710e-04 3.38331411e-04 3.22952710e-04\n",
      "  3.07574010e-04 2.15301807e-04 0.00000000e+00 0.00000000e+00\n",
      "  0.00000000e+00 0.00000000e+00 3.92156863e-03 3.66013072e-03\n",
      "  3.52172241e-03 3.78316032e-03 2.73740869e-03 0.00000000e+00]\n",
      " [0.00000000e+00 0.00000000e+00 2.46059208e-04 3.92156863e-03\n",
      "  3.62937332e-03 3.66013072e-03 3.87543253e-03 0.00000000e+00\n",
      "  0.00000000e+00 0.00000000e+00 0.00000000e+00 0.00000000e+00\n",
      "  0.00000000e+00 0.00000000e+00 0.00000000e+00 0.00000000e+00\n",
      "  0.00000000e+00 0.00000000e+00 0.00000000e+00 0.00000000e+00\n",
      "  0.00000000e+00 0.00000000e+00 3.41407151e-03 3.75240292e-03\n",
      "  3.41407151e-03 3.90618993e-03 1.83006536e-03 0.00000000e+00]\n",
      " [0.00000000e+00 0.00000000e+00 0.00000000e+00 4.61361015e-04\n",
      "  3.50634371e-03 3.72164552e-03 2.50672818e-03 0.00000000e+00\n",
      "  0.00000000e+00 0.00000000e+00 0.00000000e+00 3.07574010e-05\n",
      "  6.15148020e-05 9.22722030e-05 7.68935025e-05 7.68935025e-05\n",
      "  6.15148020e-05 6.15148020e-05 3.07574010e-05 0.00000000e+00\n",
      "  1.53787005e-05 0.00000000e+00 2.32218378e-03 3.86005383e-03\n",
      "  3.61399462e-03 2.76816609e-03 0.00000000e+00 0.00000000e+00]\n",
      " [0.00000000e+00 0.00000000e+00 0.00000000e+00 0.00000000e+00\n",
      "  3.59861592e-03 3.92156863e-03 2.93733180e-03 0.00000000e+00\n",
      "  1.69165705e-04 0.00000000e+00 0.00000000e+00 0.00000000e+00\n",
      "  0.00000000e+00 0.00000000e+00 0.00000000e+00 0.00000000e+00\n",
      "  0.00000000e+00 0.00000000e+00 0.00000000e+00 0.00000000e+00\n",
      "  6.15148020e-05 0.00000000e+00 1.58400615e-03 3.78316032e-03\n",
      "  3.79853902e-03 1.10726644e-03 0.00000000e+00 0.00000000e+00]\n",
      " [0.00000000e+00 0.00000000e+00 0.00000000e+00 1.53787005e-05\n",
      "  1.46097655e-03 1.18415994e-03 7.99692426e-04 0.00000000e+00\n",
      "  6.15148020e-05 0.00000000e+00 0.00000000e+00 0.00000000e+00\n",
      "  0.00000000e+00 0.00000000e+00 0.00000000e+00 0.00000000e+00\n",
      "  0.00000000e+00 0.00000000e+00 0.00000000e+00 0.00000000e+00\n",
      "  4.61361015e-05 0.00000000e+00 1.26105344e-03 3.64475202e-03\n",
      "  3.55247982e-03 1.07650903e-03 0.00000000e+00 0.00000000e+00]]\n"
     ]
    }
   ],
   "source": [
    "train_img =train_img/255.0\n",
    "test_img = test_img/255.0\n",
    "print(train_img[7])"
   ]
  },
  {
   "cell_type": "markdown",
   "metadata": {},
   "source": [
    "- The first layer in this network, **tf.keras.layers.Flatten**, transforms the format of the images from a two-dimensional array (of 28 by 28 pixels) to a one-dimensional array (of 28 * 28 = 784 pixels).\n",
    "- the network consists of a sequence of two **tf.keras.layers.Dense** layers. These are densely connected, or fully connected, neural layers. The first Dense layer has 128 nodes (or neurons).\n",
    "- The second (and last) layer returns a logits array with length of 10. Each node contains a score that indicates the current image belongs to one of the 10 classes."
   ]
  },
  {
   "cell_type": "code",
   "execution_count": 4,
   "metadata": {},
   "outputs": [
    {
     "name": "stdout",
     "output_type": "stream",
     "text": [
      "WARNING:tensorflow:From /home/linuxbrew/.linuxbrew/opt/python/lib/python3.7/site-packages/tensorflow_core/python/ops/resource_variable_ops.py:1630: calling BaseResourceVariable.__init__ (from tensorflow.python.ops.resource_variable_ops) with constraint is deprecated and will be removed in a future version.\n",
      "Instructions for updating:\n",
      "If using Keras pass *_constraint arguments to layers.\n"
     ]
    }
   ],
   "source": [
    "# Creating a model \n",
    "\n",
    "model = keras.Sequential([\n",
    "    keras.layers.Flatten(input_shape=(28,28)), #Input Layer\n",
    "    keras.layers.Dense(128, activation=\"relu\"), #Hidden Layer, Dense for fully connected-Layer\n",
    "#     relu is for rectified linear unit, as discussed before..\n",
    "    keras.layers.Dense(10, activation=\"softmax\") \n",
    "])"
   ]
  },
  {
   "cell_type": "markdown",
   "metadata": {},
   "source": [
    "Before the model is ready for training, it needs a few more settings. These are added during the model's compile step:\n",
    "\n",
    "- Loss function —This measures how accurate the model is during training. You want to minimize this function to \"steer\" the model in the right direction.\n",
    "- Optimizer —This is how the model is updated based on the data it sees and its loss function.\n",
    "- Metrics —Used to monitor the training and testing steps. The following example uses accuracy, the fraction of the images that are correctly classified."
   ]
  },
  {
   "cell_type": "code",
   "execution_count": 5,
   "metadata": {},
   "outputs": [
    {
     "name": "stdout",
     "output_type": "stream",
     "text": [
      "Train on 60000 samples\n",
      "Epoch 1/5\n",
      "60000/60000 [==============================] - 4s 64us/sample - loss: 3.6676 - acc: 0.6781\n",
      "Epoch 2/5\n",
      "60000/60000 [==============================] - 3s 50us/sample - loss: 0.7407 - acc: 0.7246\n",
      "Epoch 3/5\n",
      "60000/60000 [==============================] - 3s 52us/sample - loss: 0.6217 - acc: 0.7705\n",
      "Epoch 4/5\n",
      "60000/60000 [==============================] - 4s 72us/sample - loss: 0.5534 - acc: 0.8067\n",
      "Epoch 5/5\n",
      "60000/60000 [==============================] - 3s 52us/sample - loss: 0.5285 - acc: 0.8206\n"
     ]
    },
    {
     "data": {
      "text/plain": [
       "<tensorflow.python.keras.callbacks.History at 0x7f92b7106990>"
      ]
     },
     "execution_count": 5,
     "metadata": {},
     "output_type": "execute_result"
    }
   ],
   "source": [
    "# Compiling and training the model with data-sets\n",
    "\n",
    "model.compile(optimizer=\"adam\", loss=\"sparse_categorical_crossentropy\", metrics=[\"accuracy\"])\n",
    "\n",
    "model.fit(train_img, train_labels, epochs=5)"
   ]
  },
  {
   "cell_type": "code",
   "execution_count": 6,
   "metadata": {},
   "outputs": [
    {
     "name": "stdout",
     "output_type": "stream",
     "text": [
      "10000/10000 [==============================] - 0s 30us/sample - loss: 0.5626 - acc: 0.8128\n",
      "0.8128\n"
     ]
    }
   ],
   "source": [
    "# Testing and evaluating the model\n",
    "\n",
    "test_loss, test_acc = model.evaluate(test_img, test_labels)\n",
    "\n",
    "print(test_acc)"
   ]
  },
  {
   "cell_type": "markdown",
   "metadata": {},
   "source": [
    "### Making Predictions"
   ]
  },
  {
   "cell_type": "markdown",
   "metadata": {},
   "source": [
    "With the model trained, you can use it to make predictions about some images. The model's linear outputs, logits. Attach a softmax layer to convert the logits to probabilities, which are easier to interpret."
   ]
  },
  {
   "cell_type": "code",
   "execution_count": 17,
   "metadata": {},
   "outputs": [],
   "source": [
    "# probability_model = tf.keras.Sequential([model, tf.keras.layers.Softmax()])\n",
    "# This is not required because in actual model creation actiavtion function of Softmax had already been used."
   ]
  },
  {
   "cell_type": "code",
   "execution_count": 19,
   "metadata": {},
   "outputs": [
    {
     "name": "stdout",
     "output_type": "stream",
     "text": [
      "[0.0000000e+00 0.0000000e+00 0.0000000e+00 2.7092705e-37 0.0000000e+00\n",
      " 6.8187393e-02 0.0000000e+00 1.9611813e-01 1.4401760e-18 7.3569453e-01]\n",
      "9\n",
      "Ankle boot\n"
     ]
    }
   ],
   "source": [
    "prediction = model.predict(test_img)\n",
    "# It should be in the form of list, where we are getting the set of values..\n",
    "\n",
    "# print(prediction)\n",
    "print(prediction[0])\n",
    "print(np.argmax(prediction[0]))\n",
    "print(class_names[np.argmax(prediction[0])])"
   ]
  },
  {
   "cell_type": "code",
   "execution_count": 20,
   "metadata": {},
   "outputs": [
    {
     "data": {
      "image/png": "[encoded data removed]",
      "text/plain": [
       "<Figure size 432x288 with 1 Axes>"
      ]
     },
     "metadata": {
      "needs_background": "light"
     },
     "output_type": "display_data"
    }
   ],
   "source": [
    "for i in range(4):\n",
    "#     subplot(5,1,i+1)\n",
    "    plt.grid(False)\n",
    "    plt.imshow(test_img[i],cmap=plt.cm.binary)\n",
    "    plt.xlabel(\"Actual: \"+ class_names[test_labels[i]])\n",
    "    plt.title(\"Predicted: \"+ class_names[np.argmax(prediction[i])])"
   ]
  },
  {
   "cell_type": "markdown",
   "metadata": {},
   "source": [
    "### Use the trained model\n",
    "\n",
    "Finally, use the trained model to make a prediction about a single image."
   ]
  },
  {
   "cell_type": "code",
   "execution_count": 22,
   "metadata": {},
   "outputs": [
    {
     "name": "stdout",
     "output_type": "stream",
     "text": [
      "[[8.4704500e-01 1.2394928e-06 4.6201718e-09 3.1523261e-04 2.8422335e-05\n",
      "  5.9688445e-26 1.5261015e-01 0.0000000e+00 4.3319808e-08 2.9637827e-38]]\n",
      "T-shirt/top\n"
     ]
    }
   ],
   "source": [
    "# Predicting single values (still an issue)\n",
    "predictionx = model.predict([[train_img[1]]])\n",
    "print(predictionx)\n",
    "print(class_names[np.argmax(predictionx)])"
   ]
  },
  {
   "cell_type": "code",
   "execution_count": null,
   "metadata": {},
   "outputs": [],
   "source": []
  }
 ],
 "metadata": {
  "kernelspec": {
   "display_name": "Python 3",
   "language": "python",
   "name": "python3"
  },
  "language_info": {
   "codemirror_mode": {
    "name": "ipython",
    "version": 3
   },
   "file_extension": ".py",
   "mimetype": "text/x-python",
   "name": "python",
   "nbconvert_exporter": "python",
   "pygments_lexer": "ipython3",
   "version": "3.7.4"
  }
 },
 "nbformat": 4,
 "nbformat_minor": 4
}
