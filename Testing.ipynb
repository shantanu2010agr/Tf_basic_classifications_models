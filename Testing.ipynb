{
 "cells": [
  {
   "cell_type": "markdown",
   "metadata": {},
   "source": [
    "## Working with Tenseflow, using newly-made movie-reviewing model.\n",
    "\n",
    "We have created the model named \"MovieReview.h5\", which can be used for categorizing the Movie Review whether it is GOOD (1) or not based on the training, we did while making the model. "
   ]
  },
  {
   "cell_type": "code",
   "execution_count": 2,
   "metadata": {},
   "outputs": [],
   "source": [
    "import tensorflow as tf\n",
    "from tensorflow import keras\n",
    "import numpy as np"
   ]
  },
  {
   "cell_type": "markdown",
   "metadata": {},
   "source": [
    "Encoding/Processing of the text data based on the huge word-map table."
   ]
  },
  {
   "cell_type": "code",
   "execution_count": 14,
   "metadata": {},
   "outputs": [
    {
     "name": "stdout",
     "output_type": "stream",
     "text": [
      "[1 0 0 ... 0 1 0]\n"
     ]
    }
   ],
   "source": [
    "data = keras.datasets.imdb\n",
    "(train_data, train_labels), (test_data, test_labels) = data.load_data(num_words=10000)\n",
    "# print(train_data[0].length)\n",
    "print(train_labels)"
   ]
  },
  {
   "cell_type": "markdown",
   "metadata": {},
   "source": [
    "Removing the external failure like spaces and replacing them all with required changes."
   ]
  },
  {
   "cell_type": "code",
   "execution_count": 4,
   "metadata": {},
   "outputs": [],
   "source": [
    "# Our keys similar to cloth type in fashion sets\n",
    "word_index = data.get_word_index()\n",
    "# print(word_index)\n",
    "# Creating our own dictionary based on this.\n",
    "word_index ={k:(v+3) for k, v in word_index.items()}\n",
    "word_index[\"<PAD>\"] = 0      #This will be used for making the datasets of same lengths\n",
    "word_index[\"<START>\"] = 1\n",
    "word_index[\"<UNK>\"] = 2       #Unknown word....\n",
    "word_index[\"<UNUSED>\"] = 3"
   ]
  },
  {
   "cell_type": "code",
   "execution_count": 5,
   "metadata": {},
   "outputs": [],
   "source": [
    "# Above is \"Word to int encoding\", we want \"Int to Word decoding\" based on working on neural network\n",
    "# Hence, a reverse dictionary is to be made.\n",
    "reverse_word_index = dict([(value, key) for (key, value) in word_index.items()])"
   ]
  },
  {
   "cell_type": "code",
   "execution_count": 6,
   "metadata": {},
   "outputs": [],
   "source": [
    "def decode_review(text):\n",
    "    return \" \".join([reverse_word_index.get(i, \"?\") for i in text])\n",
    "# \"?\" will be replacing the value based on the key \"i\" that is our input"
   ]
  },
  {
   "cell_type": "code",
   "execution_count": 7,
   "metadata": {},
   "outputs": [],
   "source": [
    "# Way of normalization to make the datasets of same lengths.\n",
    "train_data = keras.preprocessing.sequence.pad_sequences(train_data, value=word_index[\"<PAD>\"],\n",
    "                                                       padding=\"post\", maxlen=250)\n",
    "test_data = keras.preprocessing.sequence.pad_sequences(test_data, value=word_index[\"<PAD>\"],\n",
    "                                                      padding=\"post\", maxlen=250)\n"
   ]
  },
  {
   "cell_type": "code",
   "execution_count": 8,
   "metadata": {},
   "outputs": [
    {
     "name": "stdout",
     "output_type": "stream",
     "text": [
      "WARNING:tensorflow:From /home/linuxbrew/.linuxbrew/opt/python/lib/python3.7/site-packages/tensorflow_core/python/keras/initializers.py:119: calling RandomUniform.__init__ (from tensorflow.python.ops.init_ops) with dtype is deprecated and will be removed in a future version.\n",
      "Instructions for updating:\n",
      "Call initializer instance with the dtype argument instead of passing it to the constructor\n",
      "WARNING:tensorflow:From /home/linuxbrew/.linuxbrew/opt/python/lib/python3.7/site-packages/tensorflow_core/python/ops/resource_variable_ops.py:1630: calling BaseResourceVariable.__init__ (from tensorflow.python.ops.resource_variable_ops) with constraint is deprecated and will be removed in a future version.\n",
      "Instructions for updating:\n",
      "If using Keras pass *_constraint arguments to layers.\n",
      "WARNING:tensorflow:From /home/linuxbrew/.linuxbrew/opt/python/lib/python3.7/site-packages/tensorflow_core/python/ops/init_ops.py:97: calling GlorotUniform.__init__ (from tensorflow.python.ops.init_ops) with dtype is deprecated and will be removed in a future version.\n",
      "Instructions for updating:\n",
      "Call initializer instance with the dtype argument instead of passing it to the constructor\n",
      "WARNING:tensorflow:From /home/linuxbrew/.linuxbrew/opt/python/lib/python3.7/site-packages/tensorflow_core/python/ops/init_ops.py:97: calling Zeros.__init__ (from tensorflow.python.ops.init_ops) with dtype is deprecated and will be removed in a future version.\n",
      "Instructions for updating:\n",
      "Call initializer instance with the dtype argument instead of passing it to the constructor\n",
      "WARNING:tensorflow:From /home/linuxbrew/.linuxbrew/opt/python/lib/python3.7/site-packages/tensorflow_core/python/ops/nn_impl.py:183: where (from tensorflow.python.ops.array_ops) is deprecated and will be removed in a future version.\n",
      "Instructions for updating:\n",
      "Use tf.where in 2.0, which has the same broadcast rule as np.where\n"
     ]
    }
   ],
   "source": [
    "# My already saved model\n",
    "model= keras.models.load_model(\"MovieReview.h5\")"
   ]
  },
  {
   "cell_type": "markdown",
   "metadata": {},
   "source": [
    "Function \"Review_encode\" is to encode the words in the input testing files with the value mentioned int the word_index[] dictionary with key key as the word."
   ]
  },
  {
   "cell_type": "code",
   "execution_count": 9,
   "metadata": {},
   "outputs": [],
   "source": [
    "def review_encode(s):\n",
    "    encoded =[1]\n",
    "    for word in s:\n",
    "        word=word.lower()\n",
    "        if word in word_index:\n",
    "            encoded.append(word_index[word])\n",
    "        else:\n",
    "            encoded.append(2)\n",
    "    \n",
    "    return encoded"
   ]
  },
  {
   "cell_type": "markdown",
   "metadata": {},
   "source": [
    "Final testing file.<br>\n",
    "Use Review.txt as the actual file for the texting."
   ]
  },
  {
   "cell_type": "code",
   "execution_count": 13,
   "metadata": {},
   "outputs": [
    {
     "name": "stdout",
     "output_type": "stream",
     "text": [
      "Parasite’s opening shot of a small glass window looking up from a basement house to the view of a narrow winding road, sets the visual language of the film firmly, right at the onset. are many more such shots which metaphorically convey the social and economic disparity that is the central theme of this film. Especially the use of stairs going up and down, cramped spaces versus lush, open green lawns, delectably and elegantly laid out fruit slices as opposed to a clumisly heaped plate of food from a local kitchen. Kim Ki-taek (Song Kang-ho) and his family live in a pokey, underground house and are generally unemployed. When we meet them, the family is perturbed that their access to free wifi has been cut short. Obviously not able to afford their own, they have been sponging off their neighbor’s connection. In fact, even as a fumigation carried out on their street, Kim tells his family to leave the windows open so they can have a free extermination of the insects in their house, despite almost choking on the fumes. On some days, they get by with temporary jobs like fixing pizza boxes. So when his son Kim Ki-woo (Choi Woo-shik) is offered by a friend to be set up as an English tutor to the daughter of a wealthy Mr. Park (Lee Sun-kyun), he agrees. Only hitch, Kim Ki-woo doesn’t have a college degree having failed his university exams. But his sister, Kim Ki-jeong (Park So-dam) presents a quick solution to this with her expert photo-shopping skills. Armed with a forged degree document, Kim makes an easy impression on Mr.Park’s wife, Yeon-kyo (Cho Yeo-jeong) and their teenage daughter, Park Da-hye (Jung ji-so). There’s also their nine-year-old son, Park Da-song (Jung Hyeong), scampering around the house, who Yeon-kyo believes has untapped potential as an artist. With one foot firmly inside the Park household, Kim Ki-jeong craftily places his sister as Da-song’s art teacher cum therapist. Yeon-kyo's naivety and gullible nature makes this inclusion quite smooth. Soon with some careful scheming, fake identities and a well-rehearsed plan even his parents, Kim Ki-taek and Chung sook (Chang Hyae-jin) are employed in the household.\n",
      "\n",
      "[[   98     4   223     9 25272    15    68  4573     8   879     2    47\n",
      "     77   605   346   540    24   502     8  4146    68   205    36    28\n",
      "     77     2   125    68     2  2025    11   192    60    17     6     2\n",
      "   2937    46    23    68   890  2508   716    27   223     8   563     4\n",
      "   5949   911    38    36    70    28     6   879 19625     7     4  9415\n",
      "     11    68   313   466   220 18168    23     4 32883    23    49   504\n",
      "     36    79    34    19  9132  2632    40 12711  7757  9237    38    54\n",
      "     27   492  2508     2     2     2     9  2564    34     6   464     8\n",
      "     30   270    56    17    35   631 18264     8     4   577     7     6\n",
      "   3092   443  1547     2     2    29  4443    64 10280  2508     2 40884\n",
      "     28     6  1170  2461   260  1196    27  3436 21377    21    27   799\n",
      "   2508     2     2     2  2423     6  1605  4788     8    14    19    41\n",
      "   2809     2  1959  4475    19     6 21841  2461  6911  2508   166    35\n",
      "    776  1384    23     2   322     2     2     2     5    68  1667   577\n",
      "   1547     2     2     2 35736    82    68     2   492  1547     2     2\n",
      "  86154 51114   187     4   313    37     2  2251    47 31650   986    17\n",
      "     35  1740    19    31  2020  5995  1004     4  1547  4945  2508     2\n",
      "  58908  1370    27   799    17     2   498  1750 13257 10301     2 14417\n",
      "      5 11874   876   166    14  7166   179  3557   515    19    49  4690\n",
      "   7737  1214  8681     5     6     2  1347    60    27   846  2508     2\n",
      "      5 28166     2     2     2    26  5652    11     4     2]]\n",
      "[[0.02976142]]\n",
      "With an indestructible body and brute strength, the slain US Marine Ray Garrison is revived as ‘Bloodshot’ - a biotech killing machine like no other. Dr. Emil Harting (Guy Pearce) breathes new life into Garrison’s body but robs him of all the memories of his past life. A life that is cut short by a psycho killer, who kills Ray’s wife Gina Garrison (Talulah Riley) in cold blood, before killing him too. Based on the Valiant Comics character with the same name, ‘Bloodshot’ sets off with a solid premise for a revenge drama. Add to that, a wholesome dose of sci-fi tropes, give the narrative a thrilling leap of imagination. Like the microscopic ‘nanites’ running in Ray’s bloodstream that can magically heal fatal injuries and give him unbridled power. Within seconds, he can download and learn manuals to fly an aircraft just as easily as he can punch down concrete pillars.\n",
      "\n",
      "[[    1    19    35 14850   648     5 11091  2124     4 15088   178  7735\n",
      "   1538 15687     9 12497    17     2     2     6 74875   880  1692    40\n",
      "     57    85   884 10747     2     2 34393 17288   162   113    83     2\n",
      "    648    21 11983    90     7    32     4  1883     7    27   501   113\n",
      "      6   113    15     9   605   346    34     6  2167   455    37  1098\n",
      "      2   322  5831 15687     2 11280    11  1043   541   159   880    90\n",
      "     99   448    23     4 13122  3442   109    19     4   172   403     2\n",
      "    732   125    19     6  1156   863    18     6  1060   453   763     8\n",
      "     15     6  7802  5393     7     2 21070   202     4  1321     6  3017\n",
      "   6852     7  1546    40     4 47303     2   620    11     2 43582    15\n",
      "     70  7599 10606  3610 11512     5   202    90 21569   671   746  1574\n",
      "     29    70 10134     5   850 54229     8  2223    35  8506    43    17\n",
      "    714    17    29    70  2845   180 11250     2     0     0     0     0\n",
      "      0     0     0     0     0     0     0     0     0     0     0     0\n",
      "      0     0     0     0     0     0     0     0     0     0     0     0\n",
      "      0     0     0     0     0     0     0     0     0     0     0     0\n",
      "      0     0     0     0     0     0     0     0     0     0     0     0\n",
      "      0     0     0     0     0     0     0     0     0     0     0     0\n",
      "      0     0     0     0     0     0     0     0     0     0     0     0\n",
      "      0     0     0     0     0     0     0     0     0     0     0     0\n",
      "      0     0     0     0     0     0     0     0     0     0]]\n",
      "[[0.02472797]]\n",
      "After breaking up with the Joker, Harley Quinn (Margot Robbie) quickly discovers she’s no longer immune from the thugs of Gotham City. Besides a bunch of people she ticked off, she’s also hunted by the misogynistic and sadistic gangster Roman Sionis or Black Mask (Ewan McGregor) with his accomplice Victor Zsasz (Chris Messina). Additionally, a young girl Cassandra (Ella Jay Basco) gets caught in the middle of Harley’s mayhem, along with Renee Montaya (Rosie Perez), Dinah Lance (Jurnee Smollett-Bell) and Helena Bertinelli (Mary Elizabeth Winstead). The women need to team up to have a fighting chance against Black Mask and his goons. From the outset, it’s evident that this film’s colour palette and vibe is bright and intentionally erratic. Director Cathy Yan’s vision borrows from other irreverent superhero and action films before it but maintains a thrilling, manic tonality of its own. This is conveyed through the characterisation, action set pieces, production design and humour. Bringing that vision to life is a capable cast with the magnetic Margot Robbie in the lead. She embodies the frantic energy of Harley Quinn, putting all the character’s eccentricities on display while being inherently compelling. Jurnee Smollett-Bell is a revelation as Dinah Lance/ Black Canary, showing emotional depth. Mary Elizabeth Winstead is a scene-stealer as Helena Bertinelli/ Huntress. Ewan McGregor relishes playing the diabolical Black Mask to make a deranged villain apt for this film.\n",
      "[[    1   103  2244    56    19     4  6199 19864  5800     2 10779   946\n",
      "   2147 57597    57  1207 12224    39     4  3959     7 14427   543  1371\n",
      "      6   762     7    84    59 12098   125 57597    82  7872    34     4\n",
      "   9975     5  3952  2112  4113     2    42   328  2377     2 10360    19\n",
      "     27 12890  2273     2     2     2  7059     6   185   250 10811     2\n",
      "   3066     2   214  1059    11     4   655     7     2  5553   367    19\n",
      "  10934     2     2 17321 50869  6438     2     2     5  8722 48321     2\n",
      "   2870     2     4   372   359     8   768    56     8    28     6   997\n",
      "    580   429   328  2377     5    27 11518    39     4  8259 21383  3523\n",
      "     15    14 45848  3335  9611     5  8249     9  1927     5  4645 10498\n",
      "    167  9664     2  1772  8689    39    85 10902  3783     5   206   108\n",
      "    159    12    21  7390     6  3017  8381 80959     7    94   205    14\n",
      "      9  6517   143     4  7451   206   270  1328   365  1592     5  1285\n",
      "   2341    15  1772     8   113     9     6  2250   177    19     4 13014\n",
      "  26268 10779    11     4   485    59 15030     4  7360  1708     7 19864\n",
      "   5800  1489    32     4     2 24228    23  2444   137   112 10499  1444\n",
      "      2     2     9     6  3411    17 50869     2   328 23795   800   921\n",
      "   1137  1083  2870     2     9     6     2    17  8722     2 38548  9970\n",
      "  10360 33239   395     4  9589   328  2377     8    97     6  5211  1019\n",
      "   7330    18    14    22     0     0     0     0     0     0     0     0\n",
      "      0     0     0     0     0     0     0     0     0     0]]\n",
      "[[0.03024883]]\n"
     ]
    }
   ],
   "source": [
    "with open(\"Review.txt\", encoding=\"utf-8\") as f:\n",
    "    for line in f.readlines():\n",
    "        nline = line.replace(\",\",\"\").replace(\".\",\"\").replace(\")\",\"\").replace(\"()\",\"\").replace(\":\",\"\").replace(\"\\\"\",\"\").split(\" \")\n",
    "        encode =review_encode(nline)\n",
    "        encode =keras.preprocessing.sequence.pad_sequences([encode], value=word_index[\"<PAD>\"],\n",
    "                                                       padding=\"post\", maxlen=250)\n",
    "        predict=model.predict(encode)\n",
    "        print(line)\n",
    "        print(encode)\n",
    "        print(predict)"
   ]
  },
  {
   "cell_type": "code",
   "execution_count": null,
   "metadata": {},
   "outputs": [],
   "source": []
  }
 ],
 "metadata": {
  "kernelspec": {
   "display_name": "Python 3",
   "language": "python",
   "name": "python3"
  },
  "language_info": {
   "codemirror_mode": {
    "name": "ipython",
    "version": 3
   },
   "file_extension": ".py",
   "mimetype": "text/x-python",
   "name": "python",
   "nbconvert_exporter": "python",
   "pygments_lexer": "ipython3",
   "version": "3.7.4"
  }
 },
 "nbformat": 4,
 "nbformat_minor": 4
}
